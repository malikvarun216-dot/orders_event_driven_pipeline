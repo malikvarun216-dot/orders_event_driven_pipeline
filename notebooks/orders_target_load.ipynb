{
  "cells": [
    {
      "cell_type": "code",
      "execution_count": null,
      "metadata": {},
      "outputs": [],
      "source": [
        "# Import Delta Lake APIs\n",
        "from delta.tables import DeltaTable\n",
        "\n",
        "# Table names (adjust schema/catalog as needed)\n",
        "stage_table_name = \"first_ext.default.orders_stage\"\n",
        "target_table_name = \"first_ext.default.orders_target\"\n",
        "\n",
        "# Read the data from the stage table\n",
        "stage_df = spark.read.table(stage_table_name)\n",
        "\n",
        "# --- Check if target table exists ---\n",
        "if not spark.catalog.tableExists(target_table_name):\n",
        "    # First run \u2192 create the target table directly from staging\n",
        "    (\n",
        "        stage_df.write\n",
        "        .format(\"delta\")\n",
        "        .saveAsTable(target_table_name)\n",
        "    )\n",
        "    print(f\"\u2705 Target table {target_table_name} created with initial data.\")\n",
        "\n",
        "else:\n",
        "    # Target exists \u2192 perform SCD Type 1 merge (upsert)\n",
        "    target_table = DeltaTable.forName(spark, target_table_name)\n",
        "\n",
        "    # Define merge condition (using tracking_num as primary key)\n",
        "    merge_condition = \"stage.tracking_num = target.tracking_num\"\n",
        "\n",
        "    (\n",
        "        target_table.alias(\"target\")\n",
        "        .merge(stage_df.alias(\"stage\"), merge_condition)\n",
        "        .whenMatchedDelete()  # delete old records\n",
        "        .execute()\n",
        "    )\n",
        "\n",
        "    (\n",
        "        stage_df.write\n",
        "        .format(\"delta\")\n",
        "        .mode(\"append\")\n",
        "        .saveAsTable(target_table_name)\n",
        "    )\n",
        "    print(f\"\u2705 SCD1 merge completed. Target table {target_table_name} updated.\")\n"
      ]
    }
  ],
  "metadata": {
    "language_info": {
      "name": "python"
    },
    "orig_nbformat": 4
  },
  "nbformat": 4,
  "nbformat_minor": 2
}